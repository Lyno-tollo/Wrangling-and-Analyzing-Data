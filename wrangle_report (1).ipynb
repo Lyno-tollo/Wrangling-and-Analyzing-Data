{
 "cells": [
  {
   "cell_type": "markdown",
   "metadata": {},
   "source": [
    "## Reporting: wrangle_report\n",
    "* Create a **300-600 word written report** called \"wrangle_report.pdf\" or \"wrangle_report.html\" that briefly describes your wrangling efforts. This is to be framed as an internal document."
   ]
  },
  {
   "cell_type": "markdown",
   "metadata": {},
   "source": [
    "### Objectives\n",
    "The project's main objectives were:\n",
    "- Data wrangling which involved gathering data from various sources, assessing the data and cleaing all the issues\n",
    "- Analyis of the cleaned data and visualizing\n",
    "- Creating reports for the wrangling,analyzing and visualizing the data.\n"
   ]
  },
  {
   "cell_type": "markdown",
   "metadata": {},
   "source": [
    "### Step 1: Gathering data\n",
    "In this section, three datasets were gathered and converted as pandas dataframes:\n",
    "- WeRateDogs Twitter archive dataset was downloaded manually\n",
    "- The tweet image prediction datset was downloaded programmatically using the Requests library from a provided url\n",
    "- JSON dataset was extracted from tiwtter using Twitter API and saved to a JSON string which was then read line by line into a pandas dataframe."
   ]
  },
  {
   "cell_type": "markdown",
   "metadata": {},
   "source": [
    "### Step 2 and 3: Assessing and Cleaning Data\n",
    "During this step, a number of observations was made from the datasets and necessary actions were taken in the Cleaning step."
   ]
  },
  {
   "cell_type": "markdown",
   "metadata": {},
   "source": [
    "### Quality"
   ]
  },
  {
   "cell_type": "markdown",
   "metadata": {},
   "source": [
    "#### Observation 1\n",
    "- Missing data in the 'in_reply_to_status_id', 'in_reply_to_user_id, 'retweeted_status_id', 'retweeted_status_user_id', 'retweeted_status_timestamp'. (completeness)¶\n",
    "\n",
    "#### Action 1\n",
    "\n",
    "- All columns with few or no data were dropped since no additional data was provided for these columns"
   ]
  },
  {
   "cell_type": "markdown",
   "metadata": {},
   "source": [
    "#### Observation 2\n",
    "\n",
    "-  Different names for missing data (None, NaN) (consistency)\n",
    "\n",
    "#### Action 2\n",
    "\n",
    "- All the missing data were changed to NaN"
   ]
  },
  {
   "cell_type": "markdown",
   "metadata": {},
   "source": [
    "#### Observation 3\n",
    "\n",
    "- Repeat use of dog names as values in the dog stages columns instead of categorical values\n",
    "\n",
    "####  Action 3\n",
    "\n",
    "- The dog names were replaced with boolean values in dog stage column"
   ]
  },
  {
   "cell_type": "markdown",
   "metadata": {},
   "source": [
    "#### Observation 4\n",
    "\n",
    "- Source in the we_rate_dogs should only contain the source without the entire html (accuracy)\n",
    "\n",
    "#### Action 4\n",
    "\n",
    "- The source was extracted from the html"
   ]
  },
  {
   "cell_type": "markdown",
   "metadata": {},
   "source": [
    "#### Observation 5\n",
    "\n",
    "- Wrong datatype for 'timestamp' and 'source' (validity)\n",
    "\n",
    "#### Action 5\n",
    "\n",
    "- Timestamp was converted to datetime and source to category"
   ]
  },
  {
   "cell_type": "markdown",
   "metadata": {},
   "source": [
    "#### Observation 6\n",
    "\n",
    "- Incorrect names for dogs ('the','all','actually','his','my','an','a')\n",
    "\n",
    "#### Action 6\n",
    "\n",
    "- Incorrect dog names were converted to NaN values"
   ]
  },
  {
   "cell_type": "markdown",
   "metadata": {},
   "source": [
    "#### Observation 7\n",
    "\n",
    "- Mixture of uppercase and lowercase in naming dogs in the df_image_prediction with '_' between names\n",
    "\n",
    "#### Action 7\n",
    "\n",
    "- The dog names in df_image_prediction were all convertedto lowercase and underscore replaced"
   ]
  },
  {
   "cell_type": "markdown",
   "metadata": {},
   "source": [
    "#### Observation 8\n",
    "\n",
    "- The +0000 extension should be stripped from the 'timestamp' column (validity)\n",
    "\n",
    "#### Action 8\n",
    "\n",
    "- The +0000 UTC extension was stripped"
   ]
  },
  {
   "cell_type": "markdown",
   "metadata": {},
   "source": [
    "### Tidiness"
   ]
  },
  {
   "cell_type": "markdown",
   "metadata": {},
   "source": [
    "#### Observation 1\n",
    "\n",
    "- The df_json_tweet dataframe should be part of the we_rate_dogs dataframe\n",
    "\n",
    "#### Action 1\n",
    "\n",
    "- The two dataframes were merged on **tweet_id**"
   ]
  },
  {
   "cell_type": "markdown",
   "metadata": {},
   "source": [
    "#### Observation 2\n",
    "\n",
    "- The stages of dogs; 'doggo','floofer','pupper','puppo' should be grouped to one colum, say dog stage\n",
    "\n",
    "#### Action 2\n",
    "\n",
    "- The 4 columns were melted into **dog_stage**"
   ]
  },
  {
   "cell_type": "markdown",
   "metadata": {},
   "source": [
    "### Result\n",
    "The resulting tidy dataframe was then saved as twitter_archive_master.csv dataframe ready for analysis"
   ]
  }
 ],
 "metadata": {
  "kernelspec": {
   "display_name": "Python 3",
   "language": "python",
   "name": "python3"
  },
  "language_info": {
   "codemirror_mode": {
    "name": "ipython",
    "version": 3
   },
   "file_extension": ".py",
   "mimetype": "text/x-python",
   "name": "python",
   "nbconvert_exporter": "python",
   "pygments_lexer": "ipython3",
   "version": "3.6.3"
  }
 },
 "nbformat": 4,
 "nbformat_minor": 2
}
